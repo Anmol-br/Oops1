{
 "cells": [
  {
   "cell_type": "markdown",
   "id": "afb11996-535c-4b79-97a6-6e8e7451206b",
   "metadata": {},
   "source": [
    "Problem 1: Bank Account Create a class representing a bank account with attributes like account number, account holder name, and balance. Implement methods to deposit and withdraw money from the account."
   ]
  },
  {
   "cell_type": "code",
   "execution_count": 1,
   "id": "0b4105a1-117c-44f2-8d8c-1bc242736694",
   "metadata": {},
   "outputs": [],
   "source": [
    "class BankAccount:\n",
    "    \n",
    "    def __init__(self,balance,account_number,account_holder_name):\n",
    "        self.balance=balance\n",
    "        self.account_number=account_number\n",
    "        self.account_holder_name=account_holder_name\n",
    "        \n",
    "    def deposit_cash(self,amount):\n",
    "        if amount>0:\n",
    "            self.balance=self.balance+amount\n",
    "            return f\"The amount to be depositedd in the account is {self.balance}\"\n",
    "        \n",
    "        else:\n",
    "            return f\"Invalid Amount {amout}\"\n",
    "        \n",
    "    def withdraw_cash(self,amount):\n",
    "        if amount>0:\n",
    "            self.balance=self.balance-amount\n",
    "            return f\"The remaining amount into the bank in {self.balance}\"\n",
    "        else:\n",
    "            return f\"Enter Invalid amount {amount}\""
   ]
  },
  {
   "cell_type": "code",
   "execution_count": 2,
   "id": "302ba029-87a1-4e83-994b-54456e567371",
   "metadata": {},
   "outputs": [],
   "source": [
    "details=BankAccount(100000,123456789,\"Anmol\")"
   ]
  },
  {
   "cell_type": "code",
   "execution_count": 3,
   "id": "c84683b1-d458-44fb-8aa3-713334370d04",
   "metadata": {},
   "outputs": [
    {
     "data": {
      "text/plain": [
       "'The amount to be depositedd in the account is 120000'"
      ]
     },
     "execution_count": 3,
     "metadata": {},
     "output_type": "execute_result"
    }
   ],
   "source": [
    "details.deposit_cash(20000)"
   ]
  },
  {
   "cell_type": "code",
   "execution_count": 4,
   "id": "25421525-bd33-4b08-82e8-7ab8e8164cb0",
   "metadata": {},
   "outputs": [
    {
     "data": {
      "text/plain": [
       "'The remaining amount into the bank in 95000'"
      ]
     },
     "execution_count": 4,
     "metadata": {},
     "output_type": "execute_result"
    }
   ],
   "source": [
    "details.withdraw_cash(25000)"
   ]
  },
  {
   "cell_type": "markdown",
   "id": "9f995879-c752-4f18-a617-651e31cc6946",
   "metadata": {},
   "source": [
    "Problem 2: Employee Management Create a class representing an employee with attributes like employee ID, name, and salary. Implement methods to calculate the yearly bonus and display employee details."
   ]
  },
  {
   "cell_type": "code",
   "execution_count": 5,
   "id": "a0e2f724-b028-4f17-907e-b136c9d10607",
   "metadata": {},
   "outputs": [],
   "source": [
    "class employee_details:\n",
    "    \n",
    "    def __init__(self,employee_id,employee_name,salary):\n",
    "        self.employee_id=employee_id\n",
    "        self.employee_name=employee_name\n",
    "        self.salary=salary\n",
    "    \n",
    "    def yearly_bonus(self,bonus):\n",
    "        print(f\"Employee Details: Employee Id is:{self.employee_id}  ,Employee Name is:{self.employee_name},Employee Name is:{self.salary}\")\n",
    "        print(\"Bonus to be credit into the account is:\",bonus)\n",
    "        bonus=self.salary+bonus\n",
    "        return f\"Account Balance:{bonus}\""
   ]
  },
  {
   "cell_type": "code",
   "execution_count": 6,
   "id": "4fd00285-af70-4b6a-ad01-e7437628aadc",
   "metadata": {},
   "outputs": [],
   "source": [
    "employee=employee_details(22222,\"Naitik\",300000)"
   ]
  },
  {
   "cell_type": "code",
   "execution_count": 7,
   "id": "86d0cb22-0f15-41ef-b053-e9efd378dcd7",
   "metadata": {},
   "outputs": [
    {
     "name": "stdout",
     "output_type": "stream",
     "text": [
      "Employee Details: Employee Id is:22222  ,Employee Name is:Naitik,Employee Name is:300000\n",
      "Bonus to be credit into the account is: 25000\n"
     ]
    },
    {
     "data": {
      "text/plain": [
       "'Account Balance:325000'"
      ]
     },
     "execution_count": 7,
     "metadata": {},
     "output_type": "execute_result"
    }
   ],
   "source": [
    "employee.yearly_bonus(25000)"
   ]
  },
  {
   "cell_type": "markdown",
   "id": "dd9fece3-06f7-4b0e-aca0-f1f1664d5915",
   "metadata": {},
   "source": [
    "Problem 3: Vehicle Rental Create a class representing a vehicle rental system. Implement methods to rent a vehicle, return a vehicle, and display available vehicles."
   ]
  },
  {
   "cell_type": "code",
   "execution_count": 8,
   "id": "f5b00230-282b-4bb8-98b1-86eba2c05b3f",
   "metadata": {},
   "outputs": [
    {
     "name": "stdout",
     "output_type": "stream",
     "text": [
      "Vehicle Available for rent is:'bullet','Swift','Bike','Innova'\n"
     ]
    }
   ],
   "source": [
    "available={\"bullet\":500,\"swift\":200,\"Bike\":100,\"innova\":500}\n",
    "\n",
    "print(\"Vehicle Available for rent is:'bullet','Swift','Bike','Innova'\")\n",
    "\n",
    "class Rental_vehicle:\n",
    "    \n",
    "    def __init__(self,vehicle_type):\n",
    "        self.vehicle_type=vehicle_type\n",
    "        \n",
    "    def vehicle_type(self):\n",
    "        return self.vehicle_type\n",
    "    \n",
    "    def available_vehicle(self):\n",
    "        return available[self.vehicle_type]"
   ]
  },
  {
   "cell_type": "code",
   "execution_count": 9,
   "id": "1e620460-5e65-410a-bbaa-db2ad2770a6b",
   "metadata": {},
   "outputs": [],
   "source": [
    "rent=Rental_vehicle(\"bullet\")"
   ]
  },
  {
   "cell_type": "code",
   "execution_count": 10,
   "id": "177aedee-971e-43a1-b737-036a36ce3e9b",
   "metadata": {},
   "outputs": [
    {
     "data": {
      "text/plain": [
       "'bullet'"
      ]
     },
     "execution_count": 10,
     "metadata": {},
     "output_type": "execute_result"
    }
   ],
   "source": [
    "rent.vehicle_type"
   ]
  },
  {
   "cell_type": "code",
   "execution_count": 11,
   "id": "84e48772-86f1-448b-b689-d62a768bcab9",
   "metadata": {},
   "outputs": [
    {
     "data": {
      "text/plain": [
       "500"
      ]
     },
     "execution_count": 11,
     "metadata": {},
     "output_type": "execute_result"
    }
   ],
   "source": [
    "rent.available_vehicle()"
   ]
  },
  {
   "cell_type": "markdown",
   "id": "0af34482-628d-49b6-8056-b49a948ea821",
   "metadata": {},
   "source": [
    "Problem 4: Library Catalog Create classes representing a library and a book. Implement methods to add books to the library, borrow books, and display available books"
   ]
  },
  {
   "cell_type": "code",
   "execution_count": 12,
   "id": "244c07f9-51bc-4b05-9725-39fe47f4b394",
   "metadata": {},
   "outputs": [],
   "source": [
    "books=['Anna Karenina','To Kill a Mockingbird','Where the Sidewalk Ends','Valley of the Dolls']\n",
    "\n",
    "class Library:\n",
    "    \n",
    "    def __init__(self,add_books,borrow_books):\n",
    "        self.add_books=add_books\n",
    "        self.borrow_books=borrow_books\n",
    "        \n",
    "    def add_new_book(self):\n",
    "        books.insert(-1,self.add_books)\n",
    "        return books\n",
    "    \n",
    "    def borrow_books(self):\n",
    "        return borrow_books\n",
    "    \n",
    "    def available_books(self):\n",
    "        return books"
   ]
  },
  {
   "cell_type": "code",
   "execution_count": 13,
   "id": "ec352e7c-128b-4d7b-a171-d3bc87c546bc",
   "metadata": {},
   "outputs": [],
   "source": [
    "lib=Library('Atomic Habits','Anna Karenina')"
   ]
  },
  {
   "cell_type": "code",
   "execution_count": 14,
   "id": "0e54b0e0-2cc4-427d-9e88-cb2c633f8a0c",
   "metadata": {},
   "outputs": [
    {
     "data": {
      "text/plain": [
       "['Anna Karenina',\n",
       " 'To Kill a Mockingbird',\n",
       " 'Where the Sidewalk Ends',\n",
       " 'Atomic Habits',\n",
       " 'Valley of the Dolls']"
      ]
     },
     "execution_count": 14,
     "metadata": {},
     "output_type": "execute_result"
    }
   ],
   "source": [
    "lib.add_new_book()"
   ]
  },
  {
   "cell_type": "code",
   "execution_count": 15,
   "id": "c70a8c6e-6908-4d58-8a66-52006ec88217",
   "metadata": {},
   "outputs": [
    {
     "data": {
      "text/plain": [
       "['Anna Karenina',\n",
       " 'To Kill a Mockingbird',\n",
       " 'Where the Sidewalk Ends',\n",
       " 'Atomic Habits',\n",
       " 'Valley of the Dolls']"
      ]
     },
     "execution_count": 15,
     "metadata": {},
     "output_type": "execute_result"
    }
   ],
   "source": [
    "lib.available_books()"
   ]
  },
  {
   "cell_type": "markdown",
   "id": "56b76b12-c422-4f7e-9f2b-899ba3d76c6e",
   "metadata": {},
   "source": [
    "Problem 5: Product Inventory Create classes representing a product and an inventory system. Implement methods to add products to the inventory, update product quantity, and display available products.\n"
   ]
  },
  {
   "cell_type": "code",
   "execution_count": 16,
   "id": "3e97635d-787c-4b27-a7dc-839ae449136f",
   "metadata": {},
   "outputs": [],
   "source": [
    "product_inventory=['Electronic','Car','Clothes','Meat Factory']\n",
    "class inventory:  \n",
    "    \n",
    "    def __init__(self,add_product,update_product):\n",
    "        self.add_product=add_product\n",
    "        self.update_product=update_product       \n",
    "        \n",
    "    def add_product_inventory(self):\n",
    "        product_inventory.insert(-1,self.add_product)\n",
    "        return product_inventory\n",
    "    \n",
    "    def update_product_inventory(self):\n",
    "        product_inventory.insert(-1,self.update_product)\n",
    "        return product_inventory\n",
    "    \n",
    "    def available_product_inventory(self):\n",
    "        return f\"Updated Product in Inventory are {product_inventory}\""
   ]
  },
  {
   "cell_type": "code",
   "execution_count": 17,
   "id": "768b0dc8-9696-433e-9061-5c32195f3aed",
   "metadata": {},
   "outputs": [],
   "source": [
    "product=inventory('Fish Product','Hardware Product')"
   ]
  },
  {
   "cell_type": "code",
   "execution_count": 18,
   "id": "5b4bd6c0-dfd5-41c9-b3e1-eee4d9c73eb2",
   "metadata": {},
   "outputs": [
    {
     "data": {
      "text/plain": [
       "['Electronic', 'Car', 'Clothes', 'Fish Product', 'Meat Factory']"
      ]
     },
     "execution_count": 18,
     "metadata": {},
     "output_type": "execute_result"
    }
   ],
   "source": [
    "product.add_product_inventory()"
   ]
  },
  {
   "cell_type": "code",
   "execution_count": 19,
   "id": "28117aec-098c-41a1-8a7c-6026db058d5c",
   "metadata": {},
   "outputs": [
    {
     "data": {
      "text/plain": [
       "['Electronic',\n",
       " 'Car',\n",
       " 'Clothes',\n",
       " 'Fish Product',\n",
       " 'Hardware Product',\n",
       " 'Meat Factory']"
      ]
     },
     "execution_count": 19,
     "metadata": {},
     "output_type": "execute_result"
    }
   ],
   "source": [
    "product.update_product_inventory()"
   ]
  },
  {
   "cell_type": "code",
   "execution_count": 20,
   "id": "3b8f09f1-d13c-4236-8e34-868fd7350d4b",
   "metadata": {},
   "outputs": [
    {
     "data": {
      "text/plain": [
       "\"Updated Product in Inventory are ['Electronic', 'Car', 'Clothes', 'Fish Product', 'Hardware Product', 'Meat Factory']\""
      ]
     },
     "execution_count": 20,
     "metadata": {},
     "output_type": "execute_result"
    }
   ],
   "source": [
    "product.available_product_inventory()"
   ]
  },
  {
   "cell_type": "markdown",
   "id": "2119f0e9-27b9-42f4-9e40-8c0a5ad0ef25",
   "metadata": {},
   "source": [
    "Problem 6: Shape Calculation Create a class representing a shape with attributes like length, width, and height. Implement methods to calculate the area and perimeter of the shape.\n"
   ]
  },
  {
   "cell_type": "code",
   "execution_count": 21,
   "id": "35e5c8d9-17e1-458a-93d6-d2b42e9e2cfd",
   "metadata": {},
   "outputs": [],
   "source": [
    "class shape:\n",
    "    def __init__(self,length,width,height):\n",
    "        self.length=length\n",
    "        self.width=width\n",
    "        self.height=height\n",
    "        \n",
    "    def area(self):\n",
    "        return self.length*self.width\n",
    "    \n",
    "    def parameter(self):\n",
    "        return 2*(self.length+self.width)"
   ]
  },
  {
   "cell_type": "code",
   "execution_count": 22,
   "id": "8f9da075-5789-45fc-a705-57cff5d24ba3",
   "metadata": {},
   "outputs": [],
   "source": [
    "my_shape=shape(5,5,5)"
   ]
  },
  {
   "cell_type": "code",
   "execution_count": 23,
   "id": "0de82018-138a-4881-8fcb-9d720c32d336",
   "metadata": {},
   "outputs": [
    {
     "data": {
      "text/plain": [
       "25"
      ]
     },
     "execution_count": 23,
     "metadata": {},
     "output_type": "execute_result"
    }
   ],
   "source": [
    "my_shape.area()"
   ]
  },
  {
   "cell_type": "code",
   "execution_count": 24,
   "id": "0f2037c5-e1f2-4a97-a368-b73d69bc6be5",
   "metadata": {},
   "outputs": [
    {
     "data": {
      "text/plain": [
       "20"
      ]
     },
     "execution_count": 24,
     "metadata": {},
     "output_type": "execute_result"
    }
   ],
   "source": [
    "my_shape.parameter()"
   ]
  },
  {
   "cell_type": "markdown",
   "id": "e7d760f8-784f-49e9-a1c2-c0f0fd829aec",
   "metadata": {},
   "source": [
    "Problem 7: Student Management Create a class representing a student with attributes like student ID, name, and grades. Implement methods to calculate the average grade and display student details."
   ]
  },
  {
   "cell_type": "code",
   "execution_count": 25,
   "id": "671fcca6-f46e-43d4-ae02-dc0757379868",
   "metadata": {},
   "outputs": [],
   "source": [
    "class student_grade:\n",
    "    def __init__(self,student_id,student_name,student_grades):\n",
    "        self.student_id=student_id\n",
    "        self.student_name=student_name\n",
    "        self.student_grades=student_grades\n",
    "        \n",
    "    def grade_calculate(self):\n",
    "        if self.student_grades == 'A':\n",
    "               print(f\"Student {self.student_name} Student ID is {self.student_id} is Very Good in study\")\n",
    "            \n",
    "        elif self.student_grades == 'B':\n",
    "               print(f\"Student {self.student_name} Student ID is {self.student_id} is Good in study\")\n",
    "            \n",
    "        elif self.student_grades == 'C':\n",
    "               print(f\"Student {self.student_name} Student ID is {self.student_id} is Average in study\")\n",
    "            \n",
    "        elif self.student_grades == 'D':\n",
    "               print(f\"Student {self.student_name} Student ID is {self.student_id} is Poor in study\") "
   ]
  },
  {
   "cell_type": "code",
   "execution_count": 26,
   "id": "849ba9d1-e59d-4d27-ba9f-192aea5b3a7a",
   "metadata": {},
   "outputs": [],
   "source": [
    "student_info=student_grade('22219ASJ2','Anmol','A')"
   ]
  },
  {
   "cell_type": "code",
   "execution_count": 27,
   "id": "05e3f4b2-7c9a-4558-980d-705507d8bcf3",
   "metadata": {},
   "outputs": [
    {
     "name": "stdout",
     "output_type": "stream",
     "text": [
      "Student Anmol Student ID is 22219ASJ2 is Very Good in study\n"
     ]
    }
   ],
   "source": [
    "student_info.grade_calculate()"
   ]
  },
  {
   "cell_type": "markdown",
   "id": "d5e75cee-14d4-4344-a25a-b06f9eb52195",
   "metadata": {},
   "source": [
    "Problem 8: Email Management Create a class representing an email with attributes like sender, recipient, and subject. Implement methods to send an email and display email details."
   ]
  },
  {
   "cell_type": "code",
   "execution_count": 28,
   "id": "2cb92c40-e104-4b6c-8e95-f746c205cc58",
   "metadata": {},
   "outputs": [],
   "source": [
    "class email_management:\n",
    "    \n",
    "    def __init__(self,sender,recipient,subject):\n",
    "        self.sender=sender\n",
    "        self.recipient=recipient\n",
    "        self.subject=subject\n",
    "        \n",
    "    def sent_email(self):\n",
    "        return f\"From {self.sender} To {self.recipient} Subject {self.subject} Thank you! Your Obediently Anmol\""
   ]
  },
  {
   "cell_type": "code",
   "execution_count": 29,
   "id": "c976b8d1-9add-44d1-8bc2-7c26e8e6db03",
   "metadata": {},
   "outputs": [],
   "source": [
    "email=email_management(\"Anmol\",\"HOD Sir\",\"For Medical Leave\")"
   ]
  },
  {
   "cell_type": "code",
   "execution_count": 31,
   "id": "ff5e4884-7059-4a33-b6d8-a8fb4713d853",
   "metadata": {},
   "outputs": [
    {
     "data": {
      "text/plain": [
       "'From Anmol To HOD Sir Subject For Medical Leave Thank you! Your Obediently Anmol'"
      ]
     },
     "execution_count": 31,
     "metadata": {},
     "output_type": "execute_result"
    }
   ],
   "source": [
    "email.sent_email()"
   ]
  },
  {
   "cell_type": "markdown",
   "id": "005c041c-e5a7-44d4-a44d-579946ab76e4",
   "metadata": {},
   "source": [
    "Problem 9: Social Media Profile Create a class representing a social media profile with attributes like username and posts. Implement methods to add posts, display posts, and search for posts by keyword."
   ]
  },
  {
   "cell_type": "code",
   "execution_count": 32,
   "id": "d516e56b-c218-44cb-85de-ae7ed8fe77bf",
   "metadata": {},
   "outputs": [
    {
     "name": "stdout",
     "output_type": "stream",
     "text": [
      "Posts by JohnDoe:\n",
      "1. Just had a great lunch with friends!\n",
      "2. Enjoying a beautiful sunset at the beach.\n",
      "3. Learning Python programming is fun.\n",
      "Posts by JohnDoe containing the keyword 'fun':\n",
      "1. Learning Python programming is fun.\n"
     ]
    }
   ],
   "source": [
    "class SocialMediaProfile:\n",
    "    def __init__(self, username):\n",
    "        self.username = username\n",
    "        self.posts = []\n",
    "\n",
    "    def add_post(self, content):\n",
    "        \"\"\"Add a new post to the profile.\"\"\"\n",
    "        self.posts.append(content)\n",
    "\n",
    "    def display_posts(self):\n",
    "        \"\"\"Display all posts in the profile.\"\"\"\n",
    "        if not self.posts:\n",
    "            print(f\"{self.username}'s profile has no posts.\")\n",
    "        else:\n",
    "            print(f\"Posts by {self.username}:\")\n",
    "            for i, post in enumerate(self.posts, start=1):\n",
    "                print(f\"{i}. {post}\")\n",
    "\n",
    "    def search_posts(self, keyword):\n",
    "        \"\"\"Search for posts containing a specific keyword.\"\"\"\n",
    "        matching_posts = [post for post in self.posts if keyword in post]\n",
    "        if not matching_posts:\n",
    "            print(f\"No posts containing the keyword '{keyword}' found in {self.username}'s profile.\")\n",
    "        else:\n",
    "            print(f\"Posts by {self.username} containing the keyword '{keyword}':\")\n",
    "            for i, post in enumerate(matching_posts, start=1):\n",
    "                print(f\"{i}. {post}\")\n",
    "\n",
    "# Example usage:\n",
    "if __name__ == \"__main__\":\n",
    "    profile = SocialMediaProfile(\"JohnDoe\")\n",
    "    profile.add_post(\"Just had a great lunch with friends!\")\n",
    "    profile.add_post(\"Enjoying a beautiful sunset at the beach.\")\n",
    "    profile.add_post(\"Learning Python programming is fun.\")\n",
    "\n",
    "    profile.display_posts()\n",
    "\n",
    "    keyword = \"fun\"\n",
    "    profile.search_posts(keyword)"
   ]
  },
  {
   "cell_type": "markdown",
   "id": "7e5e748b-8954-452c-bc8d-edd188eae369",
   "metadata": {},
   "source": [
    "Problem 10: ToDo List Create a class representing a ToDo list with attributes like tasks and due dates. Implement methods to add tasks, mark tasks as completed, and display pending tasks."
   ]
  },
  {
   "cell_type": "code",
   "execution_count": 33,
   "id": "22583814-0b38-49e1-9b46-cb47008b6919",
   "metadata": {},
   "outputs": [],
   "source": [
    "class todo_list:\n",
    "    \n",
    "    def __init__(self,add_task,mark_task_complete,display_pending_task,due_data):\n",
    "        self.add_task=add_task\n",
    "        self.mark_task_complete=mark_task_complete\n",
    "        self.display_pending_task=display_pending_task\n",
    "        self.due_data=due_data\n",
    "        \n",
    "    def add_task_todo(self):\n",
    "        return f\"Add a task {self.add_task} which should be completed within the {self.due_data}\"\n",
    "    \n",
    "    def mark_task_complete_todo(self):\n",
    "        return f\"Successfully Completed the task {self.add_task}\"\n",
    "    \n",
    "    def display_pending_task_todo(self):\n",
    "        return f\"Complete the task {self.add_task} within the due data {self.due_data}\""
   ]
  },
  {
   "cell_type": "code",
   "execution_count": 37,
   "id": "825ecaef-a97d-427a-8434-83522d19c244",
   "metadata": {},
   "outputs": [],
   "source": [
    "todo=todo_list('Complete','PWSkills Assignment','5 Questions','25-december-2023')"
   ]
  },
  {
   "cell_type": "code",
   "execution_count": 38,
   "id": "f674b6ee-47ed-41d8-948f-fad7aaff9f52",
   "metadata": {},
   "outputs": [
    {
     "data": {
      "text/plain": [
       "'Add a task Complete which should be completed within the 25-december-2023'"
      ]
     },
     "execution_count": 38,
     "metadata": {},
     "output_type": "execute_result"
    }
   ],
   "source": [
    "todo.add_task_todo()"
   ]
  },
  {
   "cell_type": "code",
   "execution_count": 39,
   "id": "ab1cee41-081e-4631-bd63-97cf979e8001",
   "metadata": {},
   "outputs": [
    {
     "data": {
      "text/plain": [
       "'Complete the task Complete within the due data 25-december-2023'"
      ]
     },
     "execution_count": 39,
     "metadata": {},
     "output_type": "execute_result"
    }
   ],
   "source": [
    "todo.display_pending_task_todo()"
   ]
  },
  {
   "cell_type": "code",
   "execution_count": 40,
   "id": "c7f3c800-119e-47b3-a7b7-922c0d54f0eb",
   "metadata": {},
   "outputs": [
    {
     "data": {
      "text/plain": [
       "'Successfully Completed the task Complete'"
      ]
     },
     "execution_count": 40,
     "metadata": {},
     "output_type": "execute_result"
    }
   ],
   "source": [
    "todo.mark_task_complete_todo()"
   ]
  },
  {
   "cell_type": "code",
   "execution_count": null,
   "id": "42238268-416f-4c5b-85b8-a31b69c8d116",
   "metadata": {},
   "outputs": [],
   "source": []
  }
 ],
 "metadata": {
  "kernelspec": {
   "display_name": "Python 3 (ipykernel)",
   "language": "python",
   "name": "python3"
  },
  "language_info": {
   "codemirror_mode": {
    "name": "ipython",
    "version": 3
   },
   "file_extension": ".py",
   "mimetype": "text/x-python",
   "name": "python",
   "nbconvert_exporter": "python",
   "pygments_lexer": "ipython3",
   "version": "3.10.8"
  }
 },
 "nbformat": 4,
 "nbformat_minor": 5
}
